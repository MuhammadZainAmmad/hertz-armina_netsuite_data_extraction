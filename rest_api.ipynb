{
 "cells": [
  {
   "cell_type": "code",
   "execution_count": null,
   "id": "0",
   "metadata": {},
   "outputs": [],
   "source": [
    "import os\n",
    "import requests\n",
    "import json\n",
    "import pandas as pd\n",
    "\n",
    "from dotenv import load_dotenv\n",
    "\n",
    "from requests_oauthlib import OAuth1"
   ]
  },
  {
   "cell_type": "code",
   "execution_count": null,
   "id": "1",
   "metadata": {},
   "outputs": [],
   "source": [
    "load_dotenv()"
   ]
  },
  {
   "cell_type": "code",
   "execution_count": null,
   "id": "2",
   "metadata": {},
   "outputs": [],
   "source": [
    "ACCOUNT_ID = os.getenv('account')\n",
    "CONSUMER_KEY = os.getenv('consumer_key')\n",
    "CONSUMER_SECRET = os.getenv('consumer_secret')\n",
    "TOKEN_ID = os.getenv('token_key')\n",
    "TOKEN_SECRET = os.getenv('token_secret')"
   ]
  },
  {
   "cell_type": "code",
   "execution_count": null,
   "id": "3",
   "metadata": {},
   "outputs": [],
   "source": [
    "auth = OAuth1(\n",
    "    client_key=CONSUMER_KEY,\n",
    "    client_secret=CONSUMER_SECRET,\n",
    "    resource_owner_key=TOKEN_ID,\n",
    "    resource_owner_secret=TOKEN_SECRET,\n",
    "    realm=ACCOUNT_ID,\n",
    "    signature_method='HMAC-SHA256'\n",
    ")"
   ]
  },
  {
   "cell_type": "code",
   "execution_count": null,
   "id": "4",
   "metadata": {},
   "outputs": [],
   "source": [
    "header_suiteql = {'Prefer': 'transient'}"
   ]
  },
  {
   "cell_type": "code",
   "execution_count": null,
   "id": "5",
   "metadata": {},
   "outputs": [],
   "source": [
    "# limit = no of records to fetch in a api call (default and max =1000)\n",
    "# offset = no of records to skip\n",
    "# offset should be divisible by limit\n",
    "url = f\"https://{ACCOUNT_ID}.suitetalk.api.netsuite.com/services/rest/record/v1/account?limit=10&offset=100\"\n",
    "res = requests.get(url, auth=auth)\n",
    "print(res.status_code)\n",
    "print(res.text)\n",
    "\n",
    "res_json = json.loads(res.text)\n",
    "for key, val in res_json.items():\n",
    "    if isinstance(val, list):\n",
    "        print(f\"{key}: {val[0]}\")\n",
    "    else:\n",
    "        print(f\"{key}: {val}\") "
   ]
  },
  {
   "cell_type": "markdown",
   "id": "6",
   "metadata": {},
   "source": [
    "### Fetching Transaction Line"
   ]
  },
  {
   "cell_type": "code",
   "execution_count": null,
   "id": "7",
   "metadata": {},
   "outputs": [],
   "source": [
    "query_transaction_line = 'SELECT * FROM transactionline'"
   ]
  },
  {
   "cell_type": "code",
   "execution_count": null,
   "id": "8",
   "metadata": {},
   "outputs": [],
   "source": [
    "url_transaction_line = f'https://{ACCOUNT_ID}.suitetalk.api.netsuite.com/services/rest/query/v1/suiteql'\n",
    "res_transaction_line = requests.post(url=url_transaction_line, \n",
    "                                    auth=auth,\n",
    "                                    headers=header_suiteql,\n",
    "                                    json={\"q\": query_transaction_line}\n",
    "                                )\n",
    "print(res_transaction_line.status_code)\n",
    "print(res_transaction_line.text)\n",
    "\n",
    "json_transaction_line = json.loads(res_transaction_line.text)\n",
    "for key, val in json_transaction_line.items():\n",
    "    if isinstance(val, list):\n",
    "        print(f\"{key}: {val[0]}\")\n",
    "    else:\n",
    "        print(f\"{key}: {val}\")\n",
    "\n",
    "df_transaction_line = pd.DataFrame(json_transaction_line['items'])\n",
    "print(df_transaction_line.info())\n",
    "display(df_transaction_line.head())"
   ]
  },
  {
   "cell_type": "code",
   "execution_count": null,
   "id": "9",
   "metadata": {},
   "outputs": [],
   "source": [
    "def clean_text_columns(df):\n",
    "    for col in df.select_dtypes(include='object'):\n",
    "        df[col] = df[col].str.replace(r'[\\n\\r]', ' ', regex=True) # replace \\n \\r with white space\n",
    "    return df\n",
    "\n",
    "df_transaction_line = clean_text_columns(df_transaction_line)"
   ]
  },
  {
   "cell_type": "code",
   "execution_count": null,
   "id": "10",
   "metadata": {},
   "outputs": [],
   "source": [
    "df_transaction_line.to_csv('netsuite_fetched_data/transaction_line.csv', index=False)"
   ]
  }
 ],
 "metadata": {
  "kernelspec": {
   "display_name": "venv",
   "language": "python",
   "name": "python3"
  },
  "language_info": {
   "codemirror_mode": {
    "name": "ipython",
    "version": 3
   },
   "file_extension": ".py",
   "mimetype": "text/x-python",
   "name": "python",
   "nbconvert_exporter": "python",
   "pygments_lexer": "ipython3",
   "version": "3.12.3"
  }
 },
 "nbformat": 4,
 "nbformat_minor": 5
}
