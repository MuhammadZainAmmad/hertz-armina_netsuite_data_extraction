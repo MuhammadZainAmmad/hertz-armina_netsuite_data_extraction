{
 "cells": [
  {
   "cell_type": "code",
   "execution_count": null,
   "id": "0",
   "metadata": {},
   "outputs": [],
   "source": [
    "import os\n",
    "from dotenv import load_dotenv\n",
    "\n",
    "import requests\n",
    "from requests_oauthlib import OAuth1"
   ]
  },
  {
   "cell_type": "code",
   "execution_count": null,
   "id": "1",
   "metadata": {},
   "outputs": [],
   "source": [
    "load_dotenv()"
   ]
  },
  {
   "cell_type": "code",
   "execution_count": null,
   "id": "2",
   "metadata": {},
   "outputs": [],
   "source": [
    "ACCOUNT_ID = os.getenv('account')\n",
    "CONSUMER_KEY = os.getenv('consumer_key')\n",
    "CONSUMER_SECRET = os.getenv('consumer_secret')\n",
    "TOKEN_ID = os.getenv('token_key')\n",
    "TOKEN_SECRET = os.getenv('token_secret')"
   ]
  },
  {
   "cell_type": "code",
   "execution_count": null,
   "id": "3",
   "metadata": {},
   "outputs": [],
   "source": [
    "auth = OAuth1(\n",
    "    client_key=CONSUMER_KEY,\n",
    "    client_secret=CONSUMER_SECRET,\n",
    "    resource_owner_key=TOKEN_ID,\n",
    "    resource_owner_secret=TOKEN_SECRET,\n",
    "    signature_method='HMAC-SHA256',\n",
    "    signature_type='auth_header'\n",
    ")"
   ]
  },
  {
   "cell_type": "code",
   "execution_count": null,
   "id": "4",
   "metadata": {},
   "outputs": [],
   "source": [
    "url = f\"https://{ACCOUNT_ID}.suitetalk.api.netsuite.com/services/rest/record/v1/account\"\n",
    "response = requests.get(url, auth=auth)\n",
    "response.status_code"
   ]
  },
  {
   "cell_type": "code",
   "execution_count": null,
   "id": "5",
   "metadata": {},
   "outputs": [],
   "source": [
    "response.text"
   ]
  },
  {
   "cell_type": "code",
   "execution_count": null,
   "id": "6",
   "metadata": {},
   "outputs": [],
   "source": [
    "# from blog\n",
    "\n",
    "url = 'https://7399703.suitetalk.api.netsuite.com/services/rest/record/v1/customer'\n",
    "auth = OAuth1('38d303945b2490b7d0f38c389548cf16e7a3583e77a72e881912c0bc00874eca', \n",
    "              '24674c7b7e0c8b4f8e2d8c9b9a4aa8746c5652bcafab2da27f35a4eef534acac', \n",
    "              '1ad643818aa2303435d16276c134a4d675cc63aadcc5b4cc33cdc076d7efef89', \n",
    "              'c4b4bf05ea268e328163d7488dd0aed020685b91ce83f6fbd4b2c0aa41b3de20')\n",
    "headers = {\n",
    "    'Content-Type': 'application/json'\n",
    "}\n",
    "response = requests.get(url, auth=auth, headers=headers)\n",
    "print(response.json())"
   ]
  }
 ],
 "metadata": {
  "kernelspec": {
   "display_name": "venv",
   "language": "python",
   "name": "python3"
  },
  "language_info": {
   "codemirror_mode": {
    "name": "ipython",
    "version": 3
   },
   "file_extension": ".py",
   "mimetype": "text/x-python",
   "name": "python",
   "nbconvert_exporter": "python",
   "pygments_lexer": "ipython3",
   "version": "3.12.3"
  }
 },
 "nbformat": 4,
 "nbformat_minor": 5
}
