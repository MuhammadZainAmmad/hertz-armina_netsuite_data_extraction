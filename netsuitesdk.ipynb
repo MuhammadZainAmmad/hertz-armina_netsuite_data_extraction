{
 "cells": [
  {
   "cell_type": "code",
   "execution_count": null,
   "id": "0",
   "metadata": {},
   "outputs": [],
   "source": [
    "from netsuitesdk import NetSuiteConnection\n",
    "from zeep.helpers import serialize_object\n",
    "\n",
    "import os\n",
    "from dotenv import load_dotenv\n",
    "\n",
    "import pandas as pd\n",
    "import json\n",
    "from datetime import datetime\n",
    "import time\n",
    "from http.client import RemoteDisconnected\n",
    "\n",
    "from transaction_helper import *"
   ]
  },
  {
   "cell_type": "code",
   "execution_count": null,
   "id": "1",
   "metadata": {},
   "outputs": [],
   "source": [
    "load_dotenv()"
   ]
  },
  {
   "cell_type": "code",
   "execution_count": null,
   "id": "2",
   "metadata": {},
   "outputs": [],
   "source": [
    "NETSUITE_CONFIG = {\n",
    "    'account': os.getenv('account'),\n",
    "    'consumer_key': os.getenv('consumer_key'),\n",
    "    'consumer_secret': os.getenv('consumer_secret'),\n",
    "    'token_key': os.getenv('token_key'),\n",
    "    'token_secret': os.getenv('token_secret'),\n",
    "    'wsdl_version': os.getenv('wsdl_version')\n",
    "}"
   ]
  },
  {
   "cell_type": "code",
   "execution_count": null,
   "id": "3",
   "metadata": {},
   "outputs": [],
   "source": [
    "ns_connection = NetSuiteConnection(\n",
    "    account=NETSUITE_CONFIG['account'],\n",
    "    consumer_key=NETSUITE_CONFIG['consumer_key'],\n",
    "    consumer_secret=NETSUITE_CONFIG['consumer_secret'],\n",
    "    token_key=NETSUITE_CONFIG['token_key'],\n",
    "    token_secret=NETSUITE_CONFIG['token_secret']\n",
    "\n",
    ")"
   ]
  },
  {
   "cell_type": "code",
   "execution_count": null,
   "id": "4",
   "metadata": {},
   "outputs": [],
   "source": [
    "sdk_entities = [attr for attr in dir(ns_connection) if '__' not in attr] # object instantiated in NetSuiteConnection attributes are covered entities by this sdk \n",
    "print(f\"Total Entities covered by SDK: {len(sdk_entities)} \\n{sdk_entities}\")"
   ]
  },
  {
   "cell_type": "code",
   "execution_count": null,
   "id": "5",
   "metadata": {},
   "outputs": [],
   "source": [
    "ls_counts = []\n",
    "for entity in sdk_entities:\n",
    "    dict = {\n",
    "        'entity': entity,\n",
    "        'count': None,\n",
    "        'error': None\n",
    "    }\n",
    "\n",
    "    entity_obj = getattr(ns_connection, entity)\n",
    "    try:\n",
    "        count = entity_obj.count()\n",
    "        dict.update({'count': count})\n",
    "        ls_counts.append(dict)\n",
    "    except Exception as e:\n",
    "        dict.update({'error': e})\n",
    "        ls_counts.append(dict)\n",
    "\n",
    "df_count = pd.DataFrame(ls_counts)\n",
    "df_count"
   ]
  },
  {
   "cell_type": "code",
   "execution_count": null,
   "id": "6",
   "metadata": {},
   "outputs": [],
   "source": [
    "ns_connection.vendor_bills.count()"
   ]
  },
  {
   "cell_type": "markdown",
   "id": "7",
   "metadata": {},
   "source": [
    "### Fetching non registers search objects in SEARCH_RECORD_TYPES of SDK"
   ]
  },
  {
   "cell_type": "code",
   "execution_count": null,
   "id": "8",
   "metadata": {},
   "outputs": [],
   "source": [
    "def stringify(value):\n",
    "    if isinstance(value, (dict, list)):\n",
    "        return json.dumps(value, default=str)\n",
    "    elif isinstance(value, datetime):\n",
    "        return value.isoformat()\n",
    "    return value"
   ]
  },
  {
   "cell_type": "code",
   "execution_count": null,
   "id": "9",
   "metadata": {},
   "outputs": [],
   "source": [
    "# get_invoices(ns_connection), get_credit_memos(ns_connection), get_vendor_credits(ns_connection)\n",
    "resp_zeep = get_custom_lists(ns_connection)\n",
    "print(f\"No of records fetched: {len(resp_zeep)}\")\n",
    "\n",
    "# Convert zeep objects to dicts\n",
    "resp_dict = [serialize_object(row) for row in resp_zeep]\n",
    "\n",
    "processed_data = [{k: stringify(v) for k, v in row.items()} for row in resp_dict]\n",
    "\n",
    "df_data = pd.DataFrame(processed_data)\n",
    "display(df_data.head())\n",
    "\n",
    "entity_name = 'custom_lists' # invoices, credit_memos\n",
    "df_data.to_csv(f\"netsuite_fetched_data/{entity_name}.csv\", index=False)"
   ]
  },
  {
   "cell_type": "code",
   "execution_count": null,
   "id": "10",
   "metadata": {},
   "outputs": [],
   "source": [
    "diagnose_available_types(ns_connection)"
   ]
  },
  {
   "cell_type": "code",
   "execution_count": null,
   "id": "11",
   "metadata": {},
   "outputs": [],
   "source": [
    "journal_entries = get_journal_entries(ns_connection)\n",
    "print(len(journal_entries))\n",
    "print(type(journal_entries))\n",
    "journal_entries[:1]"
   ]
  },
  {
   "cell_type": "code",
   "execution_count": null,
   "id": "12",
   "metadata": {},
   "outputs": [],
   "source": [
    "custom_segments = get_custom_segments(ns_connection)\n",
    "print(len(custom_segments))\n",
    "print(type(custom_segments))\n",
    "custom_segments[:1]"
   ]
  },
  {
   "cell_type": "code",
   "execution_count": null,
   "id": "13",
   "metadata": {},
   "outputs": [],
   "source": [
    "usages = get_usages(ns_connection)\n",
    "print(len(usages))\n",
    "print(type(usages))\n",
    "usages[:1]"
   ]
  }
 ],
 "metadata": {
  "kernelspec": {
   "display_name": "venv",
   "language": "python",
   "name": "python3"
  },
  "language_info": {
   "codemirror_mode": {
    "name": "ipython",
    "version": 3
   },
   "file_extension": ".py",
   "mimetype": "text/x-python",
   "name": "python",
   "nbconvert_exporter": "python",
   "pygments_lexer": "ipython3",
   "version": "3.12.3"
  }
 },
 "nbformat": 4,
 "nbformat_minor": 5
}
