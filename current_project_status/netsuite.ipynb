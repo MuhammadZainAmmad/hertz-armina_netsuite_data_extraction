{
 "cells": [
  {
   "cell_type": "code",
   "execution_count": null,
   "id": "0",
   "metadata": {},
   "outputs": [],
   "source": [
    "from netsuitesdk import NetSuiteConnection\n",
    "\n",
    "import os\n",
    "from dotenv import load_dotenv"
   ]
  },
  {
   "cell_type": "code",
   "execution_count": null,
   "id": "1",
   "metadata": {},
   "outputs": [],
   "source": [
    "load_dotenv()"
   ]
  },
  {
   "cell_type": "code",
   "execution_count": null,
   "id": "2",
   "metadata": {},
   "outputs": [],
   "source": [
    "NETSUITE_CONFIG = {\n",
    "    'account': os.getenv('account'),\n",
    "    'consumer_key': os.getenv('consumer_key'),\n",
    "    'consumer_secret': os.getenv('consumer_secret'),\n",
    "    'token_key': os.getenv('token_key'),\n",
    "    'token_secret': os.getenv('token_secret'),\n",
    "    'wsdl_version': os.getenv('wsdl_version')\n",
    "}"
   ]
  },
  {
   "cell_type": "code",
   "execution_count": null,
   "id": "3",
   "metadata": {},
   "outputs": [],
   "source": [
    "ns = NetSuiteConnection(\n",
    "    account=NETSUITE_CONFIG['account'],\n",
    "    consumer_key=NETSUITE_CONFIG['consumer_key'],\n",
    "    consumer_secret=NETSUITE_CONFIG['consumer_secret'],\n",
    "    token_key=NETSUITE_CONFIG['token_key'],\n",
    "    token_secret=NETSUITE_CONFIG['token_secret']\n",
    "\n",
    ")"
   ]
  },
  {
   "cell_type": "code",
   "execution_count": null,
   "id": "4",
   "metadata": {},
   "outputs": [],
   "source": [
    "count = 0\n",
    "for attr in dir(ns):\n",
    "    try:\n",
    "        obj = getattr(ns, attr)\n",
    "        if hasattr(obj, \"get_all\"):\n",
    "            print(f\"{attr}\")\n",
    "            count += 1\n",
    "    except Exception:\n",
    "        pass\n",
    "    print(f\"\\n Total accessible objects: {count}\")"
   ]
  },
  {
   "cell_type": "code",
   "execution_count": null,
   "id": "5",
   "metadata": {},
   "outputs": [],
   "source": [
    "for attr in dir(ns):\n",
    "    try:\n",
    "        obj = getattr(ns, attr)\n",
    "        if hasattr(obj, \"get_all\"):\n",
    "            records = obj.get_all()\n",
    "            print(f\"{attr:25}: {len(records)} records\")\n",
    "    except Exception as e:\n",
    "        print(f\"{attr:25}: Error {e}\")"
   ]
  },
  {
   "cell_type": "markdown",
   "id": "6",
   "metadata": {},
   "source": [
    "# method"
   ]
  },
  {
   "cell_type": "code",
   "execution_count": null,
   "id": "7",
   "metadata": {},
   "outputs": [],
   "source": [
    "methods = [m for m in dir(ns.accounts) if not m.startswith('_')]\n",
    "print(\"Invoice methods:\", methods)"
   ]
  },
  {
   "cell_type": "code",
   "execution_count": null,
   "id": "8",
   "metadata": {},
   "outputs": [],
   "source": [
    "import itertools\n",
    "all_accounts = list(itertools.islice(ns.accounts.get_all_generator(), 1000))"
   ]
  },
  {
   "cell_type": "code",
   "execution_count": null,
   "id": "9",
   "metadata": {},
   "outputs": [],
   "source": [
    "len(all_accounts[0])"
   ]
  },
  {
   "cell_type": "code",
   "execution_count": null,
   "id": "10",
   "metadata": {},
   "outputs": [],
   "source": [
    "res = ns.vendor_payments.get_all_generator()\n",
    "res"
   ]
  },
  {
   "cell_type": "code",
   "execution_count": null,
   "id": "11",
   "metadata": {},
   "outputs": [],
   "source": [
    "len(res)"
   ]
  },
  {
   "cell_type": "code",
   "execution_count": null,
   "id": "12",
   "metadata": {},
   "outputs": [],
   "source": [
    "PAGE_SIZE = 500\n",
    "\n",
    "def get_record_count(obj):\n",
    "\n",
    "    if hasattr(obj, 'create_paginated_search'):\n",
    "        try:\n",
    "            pages = obj.create_paginated_search(PAGE_SIZE)\n",
    "            total = 0\n",
    "            for page in pages:\n",
    "                total += len(page)\n",
    "            return total\n",
    "        except Exception as e:\n",
    "            print(f\"Error creating paginated search for {obj}: {e}\")  \n",
    "\n"
   ]
  },
  {
   "cell_type": "code",
   "execution_count": null,
   "id": "13",
   "metadata": {},
   "outputs": [],
   "source": [
    "import itertools\n",
    "\n",
    "PAGE_SIZE = 500\n",
    "\n",
    "def get_record_count(obj):\n",
    "\n",
    "    if hasattr(obj, 'create_paginated_search'):\n",
    "        try:\n",
    "            pages = obj.create_paginated_search(PAGE_SIZE)\n",
    "            total = 0\n",
    "            for page in pages:\n",
    "                total += len(page)\n",
    "            return total\n",
    "        except Exception as e:\n",
    "            print(f\"Error creating paginated search for {obj}: {e}\")            \n",
    "print(\"\\n Record count per accessible object:\\n\")\n",
    "for attr in dir(ns):\n",
    "    if attr.startswith('_'):\n",
    "        continue\n",
    "    obj = getattr(ns, attr)\n",
    "    print(f\"{attr:25}: {get_record_count(obj)}\")\n"
   ]
  },
  {
   "cell_type": "code",
   "execution_count": null,
   "id": "14",
   "metadata": {},
   "outputs": [],
   "source": [
    "import time\n",
    "import tracemalloc\n",
    "\n",
    "record_types = ['vendor_payments']\n",
    "\n",
    "\n",
    "start_time = time.time()\n",
    "tracemalloc.start()\n",
    "\n",
    "for record_type in record_types:\n",
    "    try:\n",
    "        obj = getattr(ns, record_type)\n",
    "        print(f\"Fetching {record_type}\")\n",
    "        records = obj.get_all()\n",
    "        print(f\" Total records: {len(records)}\")\n",
    "    except Exception as e:\n",
    "        print(f\"Error fetching {record_type}: {e}\")\n",
    "\n",
    "end_time = time.time()\n",
    "current, peak = tracemalloc.get_traced_memory()\n",
    "tracemalloc.stop()\n",
    "\n",
    "print(f\"\\n Current Memory Usage: {current / (1024 * 1024):.2f} MB\")\n",
    "print(f\"Peak Memory Usage: {peak / (1024 * 1024):.2f} MB\")\n",
    "print(f\"Total Time: {end_time - start_time:.2f} seconds\")\n"
   ]
  },
  {
   "cell_type": "code",
   "execution_count": null,
   "id": "15",
   "metadata": {},
   "outputs": [],
   "source": [
    "\n",
    "vendor_bills = ns.vendor_payments.get_all()\n"
   ]
  },
  {
   "cell_type": "code",
   "execution_count": null,
   "id": "16",
   "metadata": {},
   "outputs": [],
   "source": [
    "vendor_bills"
   ]
  },
  {
   "cell_type": "code",
   "execution_count": null,
   "id": "17",
   "metadata": {},
   "outputs": [],
   "source": [
    "vendor_payments= list(itertools.islice(ns.vendor_payments.get_all_generator(), 1))"
   ]
  },
  {
   "cell_type": "code",
   "execution_count": null,
   "id": "18",
   "metadata": {},
   "outputs": [],
   "source": [
    "adv=ns.adv_inter_company_journal_entries.get_all_generator()"
   ]
  },
  {
   "cell_type": "code",
   "execution_count": null,
   "id": "19",
   "metadata": {},
   "outputs": [],
   "source": [
    "vendor_payments"
   ]
  },
  {
   "cell_type": "markdown",
   "id": "20",
   "metadata": {},
   "source": [
    "netsuite dict to dataframe"
   ]
  },
  {
   "cell_type": "code",
   "execution_count": null,
   "id": "21",
   "metadata": {},
   "outputs": [],
   "source": [
    "from zeep.helpers import serialize_object\n",
    "import pandas as pd\n",
    "\n",
    "df = pd.json_normalize([serialize_object(obj) for obj in vendor_payments], sep='_')"
   ]
  },
  {
   "cell_type": "code",
   "execution_count": null,
   "id": "22",
   "metadata": {},
   "outputs": [],
   "source": [
    "df"
   ]
  },
  {
   "cell_type": "code",
   "execution_count": null,
   "id": "23",
   "metadata": {},
   "outputs": [],
   "source": [
    "print(dir(ns)) "
   ]
  },
  {
   "cell_type": "code",
   "execution_count": null,
   "id": "24",
   "metadata": {},
   "outputs": [],
   "source": [
    "def get_all_vendor_payments_with_pagination(ns, batch_size=1000, max_records=None):\n",
    "    \"\"\"\n",
    "    Retrieve all vendor payments using pagination with generator\n",
    "    \"\"\"\n",
    "    vendor_payments = []\n",
    "    count = 0\n",
    "    print(f\"Starting to retrieve vendor payments with batch size: {batch_size}\")\n",
    "    try:\n",
    "\n",
    "        for payment in ns.adv_inter_company_journal_entries.get_all_generator():\n",
    "            vendor_payments.append(payment)\n",
    "            count += 1\n",
    "            if count % 1000 == 0:\n",
    "                print(f\"Retrieved {count} vendor payments.\")\n",
    "            if max_records and count >= max_records:\n",
    "                break\n",
    "        print(f\"Total vendor payments retrieved: {count}\")\n",
    "        return vendor_payments\n",
    "        \n",
    "    except Exception as e:\n",
    "        print(f\"Error retrieving vendor payments: {e}\")\n",
    "        return vendor_payments"
   ]
  },
  {
   "cell_type": "code",
   "execution_count": null,
   "id": "25",
   "metadata": {},
   "outputs": [],
   "source": [
    "# Method 1: Get all vendor payments with pagination\n",
    "print(\"=== Method 1: Get all vendor payments with pagination ===\")\n",
    "vendor_payments = get_all_vendor_payments_with_pagination(ns, batch_size=1000, max_records=7000)\n",
    "print(f\"Retrieved {len(vendor_payments)} vendor payments\")"
   ]
  },
  {
   "cell_type": "code",
   "execution_count": null,
   "id": "26",
   "metadata": {},
   "outputs": [],
   "source": [
    "from zeep.helpers import serialize_object\n",
    "import pandas as pd\n",
    "\n",
    "df = pd.json_normalize([serialize_object(obj) for obj in batch], sep='_')"
   ]
  },
  {
   "cell_type": "code",
   "execution_count": null,
   "id": "27",
   "metadata": {},
   "outputs": [],
   "source": [
    "df"
   ]
  }
 ],
 "metadata": {
  "kernelspec": {
   "display_name": "venv",
   "language": "python",
   "name": "python3"
  },
  "language_info": {
   "codemirror_mode": {
    "name": "ipython",
    "version": 3
   },
   "file_extension": ".py",
   "mimetype": "text/x-python",
   "name": "python",
   "nbconvert_exporter": "python",
   "pygments_lexer": "ipython3",
   "version": "3.12.3"
  }
 },
 "nbformat": 4,
 "nbformat_minor": 5
}
