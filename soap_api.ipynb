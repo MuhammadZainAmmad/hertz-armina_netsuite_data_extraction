{
 "cells": [
  {
   "cell_type": "code",
   "execution_count": null,
   "id": "0",
   "metadata": {},
   "outputs": [],
   "source": [
    "import os\n",
    "from dotenv import load_dotenv\n",
    "\n",
    "import base64\n",
    "import hashlib\n",
    "import hmac\n",
    "import time\n",
    "import uuid\n",
    "from zeep import Client, Plugin\n",
    "from zeep.transports import Transport\n",
    "from lxml import etree\n",
    "import requests"
   ]
  },
  {
   "cell_type": "code",
   "execution_count": null,
   "id": "1",
   "metadata": {},
   "outputs": [],
   "source": [
    "load_dotenv()"
   ]
  },
  {
   "cell_type": "code",
   "execution_count": null,
   "id": "2",
   "metadata": {},
   "outputs": [],
   "source": [
    "ACCOUNT_ID = os.getenv('account')\n",
    "CONSUMER_KEY = os.getenv('consumer_key')\n",
    "CONSUMER_SECRET = os.getenv('consumer_secret')\n",
    "TOKEN_ID = os.getenv('token_key')\n",
    "TOKEN_SECRET = os.getenv('token_secret')"
   ]
  },
  {
   "cell_type": "code",
   "execution_count": null,
   "id": "3",
   "metadata": {},
   "outputs": [],
   "source": [
    "wsdl_url = \"https://webservices.netsuite.com/wsdl/v2024_2_0/netsuite.wsdl\"\n",
    "webservices_url = f\"https://{ACCOUNT_ID.lower().replace('_', '-')}.suitetalk.api.netsuite.com/services/NetSuitePort_2024_2\""
   ]
  },
  {
   "cell_type": "code",
   "execution_count": null,
   "id": "4",
   "metadata": {},
   "outputs": [],
   "source": [
    "class TokenPassportPlugin(Plugin):\n",
    "    def egress(self, envelope, http_headers, operation, binding_options):\n",
    "        nonce = base64.b64encode(uuid.uuid4().bytes).decode(\"utf-8\").rstrip(\"=\")\n",
    "        timestamp = str(int(time.time()))\n",
    "\n",
    "        base_string = (\n",
    "            ACCOUNT_ID + \"&\" +\n",
    "            CONSUMER_KEY  + \"&\" +\n",
    "            TOKEN_ID + \"&\" +\n",
    "            nonce + \"&\" +\n",
    "            timestamp\n",
    "        )\n",
    "\n",
    "        key = f\"{CONSUMER_SECRET}&{TOKEN_SECRET}\"\n",
    "        signature = base64.b64encode(\n",
    "            hmac.new(\n",
    "                key.encode(\"utf-8\"),\n",
    "                base_string.encode(\"utf-8\"),\n",
    "                hashlib.sha256\n",
    "            ).digest()\n",
    "        ).decode()\n",
    "\n",
    "        token_passport = etree.Element(\"{urn:messages_2024_2.platform.webservices.netsuite.com}tokenPassport\")\n",
    "\n",
    "        for tag, value in {\n",
    "            \"account\": ACCOUNT_ID,\n",
    "            \"consumerKey\": CONSUMER_KEY,\n",
    "            \"token\": TOKEN_ID,\n",
    "            \"nonce\": nonce,\n",
    "            \"timestamp\": timestamp,\n",
    "        }.items():\n",
    "            el = etree.Element(f\"{{urn:messages_2024_2.platform.webservices.netsuite.com}}{tag}\")\n",
    "            el.text = value\n",
    "            token_passport.append(el)\n",
    "\n",
    "        sig_el = etree.Element(\"{urn:messages_2024_2.platform.webservices.netsuite.com}signature\")\n",
    "        sig_el.set(\"algorithm\", \"HMAC-SHA256\")\n",
    "        sig_el.text = signature\n",
    "        token_passport.append(sig_el)\n",
    "\n",
    "        header = etree.Element(\"{http://schemas.xmlsoap.org/soap/envelope/}Header\")\n",
    "        header.append(token_passport)\n",
    "\n",
    "        envelope.insert(0, header)\n",
    "        return envelope, http_headers"
   ]
  },
  {
   "cell_type": "code",
   "execution_count": null,
   "id": "5",
   "metadata": {},
   "outputs": [],
   "source": [
    "session = requests.Session()\n",
    "client = Client(wsdl=wsdl_url, transport=Transport(session=session), plugins=[TokenPassportPlugin()])\n",
    "client.service._binding_options[\"address\"] = webservices_url"
   ]
  },
  {
   "cell_type": "code",
   "execution_count": null,
   "id": "6",
   "metadata": {},
   "outputs": [],
   "source": [
    "response = client.service.search({\"recordType\": \"customer\"})\n",
    "response"
   ]
  }
 ],
 "metadata": {
  "kernelspec": {
   "display_name": "venv",
   "language": "python",
   "name": "python3"
  },
  "language_info": {
   "codemirror_mode": {
    "name": "ipython",
    "version": 3
   },
   "file_extension": ".py",
   "mimetype": "text/x-python",
   "name": "python",
   "nbconvert_exporter": "python",
   "pygments_lexer": "ipython3",
   "version": "3.12.3"
  }
 },
 "nbformat": 4,
 "nbformat_minor": 5
}
